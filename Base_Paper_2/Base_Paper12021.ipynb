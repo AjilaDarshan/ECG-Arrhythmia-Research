{
  "nbformat": 4,
  "nbformat_minor": 0,
  "metadata": {
    "colab": {
      "provenance": []
    },
    "kernelspec": {
      "name": "python3",
      "display_name": "Python 3"
    },
    "language_info": {
      "name": "python"
    }
  },
  "cells": [
    {
      "cell_type": "markdown",
      "source": [
        "# **Base Paper Implementation**"
      ],
      "metadata": {
        "id": "jpiEQ4g3DTPa"
      }
    },
    {
      "cell_type": "code",
      "execution_count": null,
      "metadata": {
        "colab": {
          "base_uri": "https://localhost:8080/"
        },
        "id": "3M4EOrSXDRJI",
        "outputId": "4db2b3bf-fe16-409f-bd1c-de349f1b9581"
      },
      "outputs": [
        {
          "output_type": "stream",
          "name": "stdout",
          "text": [
            "Mounted at /content/gdrive/\n"
          ]
        }
      ],
      "source": [
        "from google.colab import drive\n",
        "\n",
        "drive.mount('/content/gdrive/', force_remount=True)"
      ]
    },
    {
      "cell_type": "code",
      "source": [
        "!unzip /content/gdrive/MyDrive/dataset/mitbih.zip"
      ],
      "metadata": {
        "id": "T5kuA6f5Iumo"
      },
      "execution_count": null,
      "outputs": []
    },
    {
      "cell_type": "code",
      "source": [
        "pip install wfdb"
      ],
      "metadata": {
        "id": "18_lq6RmI02L"
      },
      "execution_count": null,
      "outputs": []
    },
    {
      "cell_type": "code",
      "source": [
        "import sys\n",
        "import os\n",
        "import glob\n",
        "import numpy as np\n",
        "from tqdm import tqdm\n",
        "import cv2\n",
        "import matplotlib.pyplot as plt"
      ],
      "metadata": {
        "id": "186-_BDZI6BT"
      },
      "execution_count": null,
      "outputs": []
    },
    {
      "cell_type": "code",
      "source": [
        "print(os.getcwd())\n",
        "def get_records():\n",
        "    \n",
        "    paths = glob.glob('mitbih/*.atr') \n",
        "    \n",
        "    paths = [path[:-4] for path in paths]\n",
        "    paths.sort()\n",
        "\n",
        "    return paths\n",
        "\n",
        "records = get_records()\n",
        "print ('There are {} record files'.format(len(records)))\n",
        "print (records)"
      ],
      "metadata": {
        "colab": {
          "base_uri": "https://localhost:8080/"
        },
        "id": "W6I4KcY-I9vp",
        "outputId": "f581789d-f074-480d-fe85-baff6cd5eb38"
      },
      "execution_count": null,
      "outputs": [
        {
          "output_type": "stream",
          "name": "stdout",
          "text": [
            "/content\n",
            "There are 48 record files\n",
            "['mitbih/100', 'mitbih/101', 'mitbih/102', 'mitbih/103', 'mitbih/104', 'mitbih/105', 'mitbih/106', 'mitbih/107', 'mitbih/108', 'mitbih/109', 'mitbih/111', 'mitbih/112', 'mitbih/113', 'mitbih/114', 'mitbih/115', 'mitbih/116', 'mitbih/117', 'mitbih/118', 'mitbih/119', 'mitbih/121', 'mitbih/122', 'mitbih/123', 'mitbih/124', 'mitbih/200', 'mitbih/201', 'mitbih/202', 'mitbih/203', 'mitbih/205', 'mitbih/207', 'mitbih/208', 'mitbih/209', 'mitbih/210', 'mitbih/212', 'mitbih/213', 'mitbih/214', 'mitbih/215', 'mitbih/217', 'mitbih/219', 'mitbih/220', 'mitbih/221', 'mitbih/222', 'mitbih/223', 'mitbih/228', 'mitbih/230', 'mitbih/231', 'mitbih/232', 'mitbih/233', 'mitbih/234']\n"
          ]
        }
      ]
    },
    {
      "cell_type": "code",
      "source": [
        "def beat_annotations(annotation, type):\n",
        "    \n",
        "    \n",
        "    good = [type] \n",
        "    ids = np.in1d(annotation.symbol, good)\n",
        "\n",
        "    \n",
        "    beats = annotation.sample[ids]\n",
        "\n",
        "    return beats"
      ],
      "metadata": {
        "id": "xhf_VskJJBLr"
      },
      "execution_count": null,
      "outputs": []
    },
    {
      "cell_type": "code",
      "source": [
        "import wfdb\n",
        "\n",
        "def signal_segmentation(sig, type, output_dir=''):\n",
        "    count = 1\n",
        "    signals, fields = wfdb.rdsamp(sig, channels = [0])\n",
        "    ann = wfdb.rdann(sig, 'atr')\n",
        "    imp_beats = beat_annotations(ann, type)\n",
        "    beats = (ann.sample)\n",
        "    for i in tqdm(imp_beats):\n",
        "        beats = np.array(beats)\n",
        "        index_i = np.where(beats == i) \n",
        "        j = index_i[0][0] \n",
        "        if(j!=0 and j!=(len(beats)-1)):\n",
        "            # according to paper\n",
        "            sig_start = beats[j-1] + 20\n",
        "            sig_end = beats[j+1] - 20\n",
        "            data = signals[sig_start:sig_end, 0]\n",
        "            \n",
        "            # Plot and save the beat\n",
        "            fig = plt.figure(dpi=300, frameon=False, figsize=(1.0,0.5))\n",
        "            plt.plot(data, linewidth=0.5)\n",
        "            plt.xticks([]), plt.yticks([])\n",
        "            for spine in plt.gca().spines.values():\n",
        "                spine.set_visible(False)\n",
        "            filename = output_dir + 'fig_{}_{}'.format(sig[-3:],count) + '.png'  \n",
        "            fig.savefig(filename)\n",
        "            plt.close()\n",
        "            im_gray = cv2.imread(filename, cv2.IMREAD_GRAYSCALE)\n",
        "            im_gray = cv2.copyMakeBorder(im_gray,75,75,0,0, cv2.BORDER_REPLICATE) \n",
        "            im_gray = cv2.resize(im_gray, (64,64), interpolation=cv2.INTER_LANCZOS4)\n",
        "            cv2.imwrite(filename, im_gray)\n",
        "            print('img writtten {}'.format(filename))\n",
        "            count += 1\n",
        "        print('img completed {}'.format(sig))"
      ],
      "metadata": {
        "id": "gaDTFEWVJD_t"
      },
      "execution_count": null,
      "outputs": []
    },
    {
      "cell_type": "markdown",
      "source": [
        "# **Extracting Normal Beats from ECG Signals**"
      ],
      "metadata": {
        "id": "8-XrSob8RDDB"
      }
    },
    {
      "cell_type": "code",
      "source": [
        "labels = ['N']\n",
        "output_dirs = ['NOR/']\n",
        "for type, output_dir in zip(labels, output_dirs):\n",
        "    result_dir = 'MIT-BIH_DATABASE/'+output_dir\n",
        "    partial_records = records[0:6]  \n",
        "    \n",
        "    if not os.path.exists(result_dir):\n",
        "        os.makedirs(result_dir)\n",
        "    for r in tqdm(partial_records):\n",
        "        signal_segmentation(r, type, output_dir=result_dir)\n",
        "\n"
      ],
      "metadata": {
        "id": "oVRrVSuvJY_h"
      },
      "execution_count": null,
      "outputs": []
    },
    {
      "cell_type": "markdown",
      "source": [
        "# **Extracting Left Bundle Branch Beats from ECG Signals**"
      ],
      "metadata": {
        "id": "QqBpu_gwRURb"
      }
    },
    {
      "cell_type": "code",
      "source": [
        "# creating database by segmentation of ecg beats into image\n",
        "\n",
        "labels = ['L']\n",
        "output_dirs = ['LBBB/']\n",
        "for type, output_dir in zip(labels, output_dirs):\n",
        "    result_dir = 'MIT-BIH_DATABASE/'+output_dir\n",
        "    partial_records = records[0:10]  # 6 elememts out of 48 elements iteration due to RAM shortage, e.g. from records[0] to records[5] -- 6 elememts\n",
        "    #print(partial_records)\n",
        "    if not os.path.exists(result_dir):\n",
        "        os.makedirs(result_dir)\n",
        "    for r in tqdm(partial_records):\n",
        "        signal_segmentation(r, type, output_dir=result_dir)\n",
        "\n",
        "# no need to run this block anymore after data creation(beat segmentation / ECG to beat image conversion)"
      ],
      "metadata": {
        "id": "6jcQb1qPRfNy"
      },
      "execution_count": null,
      "outputs": []
    },
    {
      "cell_type": "code",
      "source": [
        "# creating database by segmentation of ecg beats into image\n",
        "\n",
        "labels = ['L']\n",
        "output_dirs = ['LBBB/']\n",
        "for type, output_dir in zip(labels, output_dirs):\n",
        "    result_dir = 'MIT-BIH_DATABASE/'+output_dir\n",
        "    partial_records = records[10:20]  # 6 elememts out of 48 elements iteration due to RAM shortage, e.g. from records[0] to records[5] -- 6 elememts\n",
        "    #print(partial_records)\n",
        "    if not os.path.exists(result_dir):\n",
        "        os.makedirs(result_dir)\n",
        "    for r in tqdm(partial_records):\n",
        "        signal_segmentation(r, type, output_dir=result_dir)\n",
        "\n",
        "# no need to run this block anymore after data creation(beat segmentation / ECG to beat image conversion)"
      ],
      "metadata": {
        "id": "7H79IGbcTj4d"
      },
      "execution_count": null,
      "outputs": []
    },
    {
      "cell_type": "code",
      "source": [
        "# creating database by segmentation of ecg beats into image\n",
        "\n",
        "labels = ['L']\n",
        "output_dirs = ['LBBB/']\n",
        "for type, output_dir in zip(labels, output_dirs):\n",
        "    result_dir = 'MIT-BIH_DATABASE/'+output_dir\n",
        "    partial_records = records[20:30]  # 6 elememts out of 48 elements iteration due to RAM shortage, e.g. from records[0] to records[5] -- 6 elememts\n",
        "    #print(partial_records)\n",
        "    if not os.path.exists(result_dir):\n",
        "        os.makedirs(result_dir)\n",
        "    for r in tqdm(partial_records):\n",
        "        signal_segmentation(r, type, output_dir=result_dir)\n",
        "\n",
        "# no need to run this block anymore after data creation(beat segmentation / ECG to beat image conversion)"
      ],
      "metadata": {
        "id": "c0YiL8ADUR2l"
      },
      "execution_count": null,
      "outputs": []
    },
    {
      "cell_type": "code",
      "source": [
        "# creating database by segmentation of ecg beats into image\n",
        "\n",
        "labels = ['L']\n",
        "output_dirs = ['LBBB/']\n",
        "for type, output_dir in zip(labels, output_dirs):\n",
        "    result_dir = 'MIT-BIH_DATABASE/'+output_dir\n",
        "    partial_records = records[30:40]  # 6 elememts out of 48 elements iteration due to RAM shortage, e.g. from records[0] to records[5] -- 6 elememts\n",
        "    #print(partial_records)\n",
        "    if not os.path.exists(result_dir):\n",
        "        os.makedirs(result_dir)\n",
        "    for r in tqdm(partial_records):\n",
        "        signal_segmentation(r, type, output_dir=result_dir)\n",
        "\n",
        "# no need to run this block anymore after data creation(beat segmentation / ECG to beat image conversion)"
      ],
      "metadata": {
        "id": "izdqqRuvUlq0"
      },
      "execution_count": null,
      "outputs": []
    },
    {
      "cell_type": "code",
      "source": [
        "# creating database by segmentation of ecg beats into image\n",
        "\n",
        "labels = ['L']\n",
        "output_dirs = ['LBBB/']\n",
        "for type, output_dir in zip(labels, output_dirs):\n",
        "    result_dir = 'MIT-BIH_DATABASE/'+output_dir\n",
        "    partial_records = records[40:48]  # 6 elememts out of 48 elements iteration due to RAM shortage, e.g. from records[0] to records[5] -- 6 elememts\n",
        "    #print(partial_records)\n",
        "    if not os.path.exists(result_dir):\n",
        "        os.makedirs(result_dir)\n",
        "    for r in tqdm(partial_records):\n",
        "        signal_segmentation(r, type, output_dir=result_dir)\n",
        "\n",
        "# no need to run this block anymore after data creation(beat segmentation / ECG to beat image conversion)"
      ],
      "metadata": {
        "id": "QXokUflhVDoD"
      },
      "execution_count": null,
      "outputs": []
    },
    {
      "cell_type": "markdown",
      "source": [
        "# **Extracting Right Bundle Branch Beats from ECG Signals**"
      ],
      "metadata": {
        "id": "wmpwZdWkWcOI"
      }
    },
    {
      "cell_type": "code",
      "source": [
        "# creating database by segmentation of ecg beats into image\n",
        "\n",
        "labels = ['R']\n",
        "output_dirs = ['RBBB/']\n",
        "for type, output_dir in zip(labels, output_dirs):\n",
        "    result_dir = 'MIT-BIH_DATABASE/'+output_dir\n",
        "    partial_records = records[0:10]  # 6 elememts out of 48 elements iteration due to RAM shortage, e.g. from records[0] to records[5] -- 6 elememts\n",
        "    #print(partial_records)\n",
        "    if not os.path.exists(result_dir):\n",
        "        os.makedirs(result_dir)\n",
        "    for r in tqdm(partial_records):\n",
        "        signal_segmentation(r, type, output_dir=result_dir)\n",
        "\n",
        "# no need to run this block anymore after data creation(beat segmentation / ECG to beat image conversion)"
      ],
      "metadata": {
        "id": "YN8wYKf9WjAy"
      },
      "execution_count": null,
      "outputs": []
    },
    {
      "cell_type": "code",
      "source": [
        "# creating database by segmentation of ecg beats into image\n",
        "\n",
        "labels = ['R']\n",
        "output_dirs = ['RBBB/']\n",
        "for type, output_dir in zip(labels, output_dirs):\n",
        "    result_dir = 'MIT-BIH_DATABASE/'+output_dir\n",
        "    partial_records = records[10:20]  # 6 elememts out of 48 elements iteration due to RAM shortage, e.g. from records[0] to records[5] -- 6 elememts\n",
        "    #print(partial_records)\n",
        "    if not os.path.exists(result_dir):\n",
        "        os.makedirs(result_dir)\n",
        "    for r in tqdm(partial_records):\n",
        "        signal_segmentation(r, type, output_dir=result_dir)\n",
        "\n",
        "# no need to run this block anymore after data creation(beat segmentation / ECG to beat image conversion)"
      ],
      "metadata": {
        "id": "MFUARcM2Wotd"
      },
      "execution_count": null,
      "outputs": []
    },
    {
      "cell_type": "code",
      "source": [
        "# creating database by segmentation of ecg beats into image\n",
        "\n",
        "labels = ['R']\n",
        "output_dirs = ['RBBB/']\n",
        "for type, output_dir in zip(labels, output_dirs):\n",
        "    result_dir = 'MIT-BIH_DATABASE/'+output_dir\n",
        "    partial_records = records[20:30]  # 6 elememts out of 48 elements iteration due to RAM shortage, e.g. from records[0] to records[5] -- 6 elememts\n",
        "    #print(partial_records)\n",
        "    if not os.path.exists(result_dir):\n",
        "        os.makedirs(result_dir)\n",
        "    for r in tqdm(partial_records):\n",
        "        signal_segmentation(r, type, output_dir=result_dir)\n",
        "\n",
        "# no need to run this block anymore after data creation(beat segmentation / ECG to beat image conversion)"
      ],
      "metadata": {
        "id": "grLeMd9lXAwt"
      },
      "execution_count": null,
      "outputs": []
    },
    {
      "cell_type": "code",
      "source": [
        "# creating database by segmentation of ecg beats into image\n",
        "\n",
        "labels = ['R']\n",
        "output_dirs = ['RBBB/']\n",
        "for type, output_dir in zip(labels, output_dirs):\n",
        "    result_dir = 'MIT-BIH_DATABASE/'+output_dir\n",
        "    partial_records = records[30:40]  # 6 elememts out of 48 elements iteration due to RAM shortage, e.g. from records[0] to records[5] -- 6 elememts\n",
        "    #print(partial_records)\n",
        "    if not os.path.exists(result_dir):\n",
        "        os.makedirs(result_dir)\n",
        "    for r in tqdm(partial_records):\n",
        "        signal_segmentation(r, type, output_dir=result_dir)\n",
        "\n",
        "# no need to run this block anymore after data creation(beat segmentation / ECG to beat image conversion)"
      ],
      "metadata": {
        "id": "l_Q7ie0IXbP7"
      },
      "execution_count": null,
      "outputs": []
    },
    {
      "cell_type": "code",
      "source": [
        "# creating database by segmentation of ecg beats into image\n",
        "\n",
        "labels = ['R']\n",
        "output_dirs = ['RBBB/']\n",
        "for type, output_dir in zip(labels, output_dirs):\n",
        "    result_dir = 'MIT-BIH_DATABASE/'+output_dir\n",
        "    partial_records = records[40:48]  # 6 elememts out of 48 elements iteration due to RAM shortage, e.g. from records[0] to records[5] -- 6 elememts\n",
        "    #print(partial_records)\n",
        "    if not os.path.exists(result_dir):\n",
        "        os.makedirs(result_dir)\n",
        "    for r in tqdm(partial_records):\n",
        "        signal_segmentation(r, type, output_dir=result_dir)\n",
        "\n",
        "# no need to run this block anymore after data creation(beat segmentation / ECG to beat image conversion)"
      ],
      "metadata": {
        "id": "BLU0X0q7XxxE"
      },
      "execution_count": null,
      "outputs": []
    },
    {
      "cell_type": "markdown",
      "source": [
        "# **Extracting Premature Ventricular Contraction Beats from ECG Signals**"
      ],
      "metadata": {
        "id": "oK-ZlQrCYT6G"
      }
    },
    {
      "cell_type": "code",
      "source": [
        "# creating database by segmentation of ecg beats into image\n",
        "\n",
        "labels = ['V']\n",
        "output_dirs = ['PVC/']\n",
        "for type, output_dir in zip(labels, output_dirs):\n",
        "    result_dir = 'MIT-BIH_DATABASE/'+output_dir\n",
        "    partial_records = records[0:10]  # 6 elememts out of 48 elements iteration due to RAM shortage, e.g. from records[0] to records[5] -- 6 elememts\n",
        "    #print(partial_records)\n",
        "    if not os.path.exists(result_dir):\n",
        "        os.makedirs(result_dir)\n",
        "    for r in tqdm(partial_records):\n",
        "        signal_segmentation(r, type, output_dir=result_dir)\n",
        "\n",
        "# no need to run this block anymore after data creation(beat segmentation / ECG to beat image conversion)"
      ],
      "metadata": {
        "id": "qgktfFoDZIfE"
      },
      "execution_count": null,
      "outputs": []
    },
    {
      "cell_type": "code",
      "source": [
        "# creating database by segmentation of ecg beats into image\n",
        "\n",
        "labels = ['V']\n",
        "output_dirs = ['PVC/']\n",
        "for type, output_dir in zip(labels, output_dirs):\n",
        "    result_dir = 'MIT-BIH_DATABASE/'+output_dir\n",
        "    partial_records = records[10:20]  # 6 elememts out of 48 elements iteration due to RAM shortage, e.g. from records[0] to records[5] -- 6 elememts\n",
        "    #print(partial_records)\n",
        "    if not os.path.exists(result_dir):\n",
        "        os.makedirs(result_dir)\n",
        "    for r in tqdm(partial_records):\n",
        "        signal_segmentation(r, type, output_dir=result_dir)\n",
        "\n",
        "# no need to run this block anymore after data creation(beat segmentation / ECG to beat image conversion)"
      ],
      "metadata": {
        "id": "K950ZPJHZcqi"
      },
      "execution_count": null,
      "outputs": []
    },
    {
      "cell_type": "code",
      "source": [
        "# creating database by segmentation of ecg beats into image\n",
        "\n",
        "labels = ['V']\n",
        "output_dirs = ['PVC/']\n",
        "for type, output_dir in zip(labels, output_dirs):\n",
        "    result_dir = 'MIT-BIH_DATABASE/'+output_dir\n",
        "    partial_records = records[20:30]  # 6 elememts out of 48 elements iteration due to RAM shortage, e.g. from records[0] to records[5] -- 6 elememts\n",
        "    #print(partial_records)\n",
        "    if not os.path.exists(result_dir):\n",
        "        os.makedirs(result_dir)\n",
        "    for r in tqdm(partial_records):\n",
        "        signal_segmentation(r, type, output_dir=result_dir)\n",
        "\n",
        "# no need to run this block anymore after data creation(beat segmentation / ECG to beat image conversion)"
      ],
      "metadata": {
        "id": "faQnDDJYZtH-"
      },
      "execution_count": null,
      "outputs": []
    },
    {
      "cell_type": "code",
      "source": [
        "# creating database by segmentation of ecg beats into image\n",
        "\n",
        "labels = ['V']\n",
        "output_dirs = ['PVC/']\n",
        "for type, output_dir in zip(labels, output_dirs):\n",
        "    result_dir = 'MIT-BIH_DATABASE/'+output_dir\n",
        "    partial_records = records[30:40]  # 6 elememts out of 48 elements iteration due to RAM shortage, e.g. from records[0] to records[5] -- 6 elememts\n",
        "    #print(partial_records)\n",
        "    if not os.path.exists(result_dir):\n",
        "        os.makedirs(result_dir)\n",
        "    for r in tqdm(partial_records):\n",
        "        signal_segmentation(r, type, output_dir=result_dir)\n",
        "\n",
        "# no need to run this block anymore after data creation(beat segmentation / ECG to beat image conversion)"
      ],
      "metadata": {
        "id": "3BtDpdqsaM-q"
      },
      "execution_count": null,
      "outputs": []
    },
    {
      "cell_type": "code",
      "source": [
        "# creating database by segmentation of ecg beats into image\n",
        "\n",
        "labels = ['V']\n",
        "output_dirs = ['PVC/']\n",
        "for type, output_dir in zip(labels, output_dirs):\n",
        "    result_dir = 'MIT-BIH_DATABASE/'+output_dir\n",
        "    partial_records = records[40:48]  # 6 elememts out of 48 elements iteration due to RAM shortage, e.g. from records[0] to records[5] -- 6 elememts\n",
        "    #print(partial_records)\n",
        "    if not os.path.exists(result_dir):\n",
        "        os.makedirs(result_dir)\n",
        "    for r in tqdm(partial_records):\n",
        "        signal_segmentation(r, type, output_dir=result_dir)\n",
        "\n",
        "# no need to run this block anymore after data creation(beat segmentation / ECG to beat image conversion)"
      ],
      "metadata": {
        "id": "INeQ4g69ajoM"
      },
      "execution_count": null,
      "outputs": []
    },
    {
      "cell_type": "markdown",
      "source": [
        "# **Extracting Paced Beats from ECG Signals**"
      ],
      "metadata": {
        "id": "wrEMwS-gb01E"
      }
    },
    {
      "cell_type": "code",
      "source": [
        "# creating database by segmentation of ecg beats into image\n",
        "\n",
        "labels = ['/']\n",
        "output_dirs = ['PB/']\n",
        "for type, output_dir in zip(labels, output_dirs):\n",
        "    result_dir = 'MIT-BIH_DATABASE/'+output_dir\n",
        "    partial_records = records[0:10]  # 6 elememts out of 48 elements iteration due to RAM shortage, e.g. from records[0] to records[5] -- 6 elememts\n",
        "    #print(partial_records)\n",
        "    if not os.path.exists(result_dir):\n",
        "        os.makedirs(result_dir)\n",
        "    for r in tqdm(partial_records):\n",
        "        signal_segmentation(r, type, output_dir=result_dir)\n",
        "\n",
        "# no need to run this block anymore after data creation(beat segmentation / ECG to beat image conversion)"
      ],
      "metadata": {
        "id": "MpTN7zwmb6w7"
      },
      "execution_count": null,
      "outputs": []
    },
    {
      "cell_type": "code",
      "source": [
        "# creating database by segmentation of ecg beats into image\n",
        "\n",
        "labels = ['/']\n",
        "output_dirs = ['PB/']\n",
        "for type, output_dir in zip(labels, output_dirs):\n",
        "    result_dir = 'MIT-BIH_DATABASE/'+output_dir\n",
        "    partial_records = records[10:20]  # 6 elememts out of 48 elements iteration due to RAM shortage, e.g. from records[0] to records[5] -- 6 elememts\n",
        "    #print(partial_records)\n",
        "    if not os.path.exists(result_dir):\n",
        "        os.makedirs(result_dir)\n",
        "    for r in tqdm(partial_records):\n",
        "        signal_segmentation(r, type, output_dir=result_dir)\n",
        "\n",
        "# no need to run this block anymore after data creation(beat segmentation / ECG to beat image conversion)"
      ],
      "metadata": {
        "id": "SOEOL-d6dC1X"
      },
      "execution_count": null,
      "outputs": []
    },
    {
      "cell_type": "code",
      "source": [
        "# creating database by segmentation of ecg beats into image\n",
        "\n",
        "labels = ['/']\n",
        "output_dirs = ['PB/']\n",
        "for type, output_dir in zip(labels, output_dirs):\n",
        "    result_dir = 'MIT-BIH_DATABASE/'+output_dir\n",
        "    partial_records = records[30:40]  # 6 elememts out of 48 elements iteration due to RAM shortage, e.g. from records[0] to records[5] -- 6 elememts\n",
        "    #print(partial_records)\n",
        "    if not os.path.exists(result_dir):\n",
        "        os.makedirs(result_dir)\n",
        "    for r in tqdm(partial_records):\n",
        "        signal_segmentation(r, type, output_dir=result_dir)\n",
        "\n",
        "# no need to run this block anymore after data creation(beat segmentation / ECG to beat image conversion)"
      ],
      "metadata": {
        "id": "qaaKj5vQdJ75"
      },
      "execution_count": null,
      "outputs": []
    },
    {
      "cell_type": "code",
      "source": [
        "# count the length of different directory inside dataset and plot pie chart function\n",
        "\n",
        "def plot_pie_chart_of_data(data, labels, colors, figName_with_ext, figureSize=(10,10), center_white_circle_radius=0.7):\n",
        "    plt.figure(figsize=figureSize)\n",
        "    my_circle=plt.Circle((0,0), center_white_circle_radius, color='white')\n",
        "    plt.pie(data, labels= labels, colors= colors, autopct='%1.1f%%')\n",
        "    p=plt.gcf()\n",
        "    p.gca().add_artist(my_circle)\n",
        "    plt.show()\n",
        "    p.savefig(figName_with_ext, dpi=400, bbox_inches='tight')"
      ],
      "metadata": {
        "id": "G30MQA8jLY3-"
      },
      "execution_count": null,
      "outputs": []
    },
    {
      "cell_type": "code",
      "source": [
        "# count the length of different directory inside dataset\n",
        "Database_DIR = 'MIT-BIH_DATABASE/'\n",
        "image_dirs = ['NOR/', 'LBBB/', 'RBBB/', 'PVC/', 'PB/']\n",
        "\n",
        "no_of_files_in_dir=[]\n",
        "for image_dir in image_dirs:\n",
        "    path, dirs, files = next(os.walk(os.path.join(Database_DIR,image_dir)))\n",
        "    no_of_files_in_dir.append(len(files)) \n",
        "\n",
        "print('Number of images in each directory={} and total number of images={}'.format(no_of_files_in_dir, sum(no_of_files_in_dir)))\n",
        "\n",
        "labels = ['NOR', 'LBBB', 'RBBB', 'PVC', 'PB']\n",
        "colors = ['green', 'red', 'blue', 'pink', 'orange']\n",
        "\n",
        "plot_pie_chart_of_data(no_of_files_in_dir,labels,colors, 'data_distribution.png')\n",
        "\n",
        "# plt.figure(figsize=(10,10))\n",
        "# my_circle=plt.Circle((0,0), 0.7, color='white')\n",
        "# plt.pie(no_of_files_in_dir, labels=['APC', 'LBBB', 'NOR', 'PAB', 'PVC', 'VEB', 'RBBB', 'VFE'], colors=['green','blue','red','skyblue','orange', 'yellow','magenta', 'cyan'],autopct='%1.1f%%')\n",
        "# p=plt.gcf()\n",
        "# p.gca().add_artist(my_circle)\n",
        "# plt.show()\n",
        "# p.savefig('data_distribution.png', dpi=400, bbox_inches='tight')"
      ],
      "metadata": {
        "colab": {
          "base_uri": "https://localhost:8080/",
          "height": 825
        },
        "id": "NE_ibPgSLcnG",
        "outputId": "9b97d7cf-5c68-4b99-8139-c241a038bb89"
      },
      "execution_count": null,
      "outputs": [
        {
          "output_type": "stream",
          "name": "stdout",
          "text": [
            "Number of images in each directory=[8965, 8072, 7256, 7130, 7024] and total number of images=38447\n"
          ]
        },
        {
          "output_type": "display_data",
          "data": {
            "text/plain": [
              "<Figure size 1000x1000 with 1 Axes>"
            ],
            "image/png": "[encoded data removed]"
          },
          "metadata": {}
        }
      ]
    },
    {
      "cell_type": "code",
      "source": [
        "!zip -r /content/grays_images.zip MIT-BIH_DATABASE"
      ],
      "metadata": {
        "id": "5GwcbHlTLMNs"
      },
      "execution_count": null,
      "outputs": []
    },
    {
      "cell_type": "markdown",
      "source": [
        "# **Continue In Next File**"
      ],
      "metadata": {
        "id": "9gQU6t2Ueie2"
      }
    }
  ]
}